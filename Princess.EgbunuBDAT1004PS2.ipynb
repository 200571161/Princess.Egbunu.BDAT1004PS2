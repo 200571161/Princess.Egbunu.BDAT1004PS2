{
 "cells": [
  {
   "cell_type": "markdown",
   "id": "c4420d69-29e8-405c-8cf7-8c8e1551b152",
   "metadata": {},
   "source": [
    "**Question 1**\n",
    "\n",
    "Consider the following Python module:\n",
    "\n",
    "a = 0  \n",
    "def b():  \n",
    "    global a  \n",
    "    a = c(a)  \n",
    "def c(a):  \n",
    "    return a + 2  \n",
    "    \n",
    "After importing the module into the interpreter, you execute:\n",
    "b()  \n",
    "b()  \n",
    "b()  \n",
    "a?  \n",
    "\n",
    "What value is displayed when the last expression (a) is evaluated? Explain your answer by indicating what happens in every executed statement."
   ]
  },
  {
   "cell_type": "code",
   "execution_count": 1,
   "id": "b604032d-dbc6-46c2-b562-8ec17fc16f23",
   "metadata": {},
   "outputs": [
    {
     "name": "stdout",
     "output_type": "stream",
     "text": [
      "2\n",
      "4\n",
      "6\n",
      "6\n"
     ]
    }
   ],
   "source": [
    "#answer to Question 1\n",
    "a = 0\n",
    "def b():\n",
    "    global a\n",
    "    a = c(a)\n",
    "    print(a)\n",
    "\n",
    "def c(a):\n",
    "    return a + 2\n",
    "\n",
    "b()\n",
    "b()\n",
    "b()\n",
    "print(a)"
   ]
  },
  {
   "cell_type": "markdown",
   "id": "69d850c8-756c-4cce-aa66-5fc5595b4533",
   "metadata": {},
   "source": [
    "The value displayed when the last expression (a) is executed returns: 6\n",
    "1. A global variable 'a' is assigned the value of 0\n",
    "2. The function 'b' is defined, using the global function 'a'\n",
    "3. The function 'c' is called with the current value of 'a' and the result is reassigned to the global variable 'a'\n",
    "4. The function 'c' is defined and takes a single argument 'a'. The function a + 2 returns the value of 'a' which is 0 plus 2.\n",
    "5. the 'b' function is called three times, returning:\n",
    "   0 + 2 = 2 \n",
    "   2 + 2 = 4\n",
    "   4 + 2 = 6\n",
    "6. the global variable 'a' is printed with it's current value which is 6."
   ]
  },
  {
   "cell_type": "markdown",
   "id": "4190ce66-d3a7-4409-a02c-a18482567dc8",
   "metadata": {},
   "source": [
    "**Question 2**\n",
    "\n",
    "Function fileLength(), given to you, takes the name of a file as input and returnsthe length of the file:\n",
    "\n",
    "fileLength('midterm.py')284  \n",
    "fileLength('idterm.py')  \n",
    "Traceback (most recent call last):  \n",
    "    File \"<pyshell#34>\", line 1, in <module>  \n",
    "        fileLength('idterm.py')  \n",
    "    File \"/Users/me/midterm.py\", line 3, in fileLength  \n",
    "        infile = open(filename)  \n",
    "FileNotFoundError: [Errno 2] No such file or directory:  \n",
    "'idterm.py'  \n",
    "\n",
    "As shown above, if the file cannot be found by the interpreter or if it cannot be read as a text file, an exception will be raised. Modify function fileLength() so that a friendly message is printed instead:  \n",
    "fileLength('midterm.py')  \n",
    "358  \n",
    "fileLength('idterm.py')File idterm.py not found.  "
   ]
  },
  {
   "cell_type": "code",
   "execution_count": 29,
   "id": "bbfe16f1-bdf9-4246-bbec-a58f785bc283",
   "metadata": {},
   "outputs": [
    {
     "name": "stdout",
     "output_type": "stream",
     "text": [
      "123\n",
      "Oops! it seems idterm.txt is missing from path or the name is incorrect.\n"
     ]
    }
   ],
   "source": [
    "def fileLength(get_file_name):\n",
    "\n",
    "    try:\n",
    "        get_file = open(get_file_name,\"r\")\n",
    "    except FileNotFoundError as e:\n",
    "        print(\"Oops! it seems {0} is missing from path or the name is incorrect.\".format(get_file_name))\n",
    "        return\n",
    "    read_file = get_file.read()\n",
    "    print(len(read_file))\n",
    "\n",
    "fileLength(\"midterm.txt\")\n",
    "fileLength(\"idterm.txt\")"
   ]
  },
  {
   "cell_type": "markdown",
   "id": "4b8276a0-4c2e-4c5f-8d32-3d86a737c055",
   "metadata": {},
   "source": [
    "**Question 3**\n",
    "\n",
    "Write a class named Marsupial that can be used as shown below: m = Marsupial() m.put_in_pouch('doll') m.put_in_pouch('firetruck') m.put_in_pouch('kitten') m.pouch_contents() ['doll', 'firetruck', 'kitten']\n",
    "\n",
    "Now write a class named Kangaroo as a subclass of Marsupial that inherits all the attributes of Marsupial and also: a. extends the Marsupial init constructor to take, as input, the coordinates x and y of the Kangaroo object, b. supports method jump that takes number values dx and dy as input and moves the kangaroo by dx units along the x-axis and by dy units along the y-axis, and c. overloads the str operator so it behaves as shown below.\n",
    "\n",
    "k = Kangaroo(0,0) print(k) I am a Kangaroo located at coordinates (0,0) k.put_in_pouch('doll') k.put_in_pouch('firetruck') k.put_in_pouch('kitten') k.pouch_contents() ['doll', 'firetruck', 'kitten'] k.jump(1,0) k.jump(1,0) k.jump(1,0) print(k) I am a Kangaroo located at coordinates (3,0)"
   ]
  },
  {
   "cell_type": "code",
   "execution_count": 30,
   "id": "f66204d6-1bb2-48c9-9deb-c549eff595c2",
   "metadata": {},
   "outputs": [
    {
     "name": "stdout",
     "output_type": "stream",
     "text": [
      "['doll', 'firetruck', 'kitten']\n",
      "I am at Kangaroo located at coordinates (0,0)\n",
      "['doll', 'firetruck', 'kitten']\n",
      "I am at Kangaroo located at coordinates (3,0)\n"
     ]
    }
   ],
   "source": [
    "class Marsupial:\n",
    "\n",
    "    def __init__(self):\n",
    "        self.collect_list = []\n",
    "    def put_in_pouch(self,get_value):\n",
    "        self.collect_list.append(get_value)\n",
    "    def pouch_contents(self):\n",
    "        print(self.collect_list)\n",
    "\n",
    "class Kangaroo(Marsupial):\n",
    "    \n",
    "    def __init__(self,get_x_value,get_y_value):\n",
    "        super().__init__()\n",
    "        self.x_value = get_x_value\n",
    "        self.y_value = get_y_value\n",
    "\n",
    "    def jump(self,get_x_value,get_y_value):\n",
    "        self.x_value += get_x_value\n",
    "        self.y_value += get_y_value\n",
    "    \n",
    "    def __str__(self):\n",
    "        return \"I am at Kangaroo located at coordinates ({0},{1})\".format(self.x_value,self.y_value)\n",
    "m = Marsupial()\n",
    "m.put_in_pouch('doll')\n",
    "m.put_in_pouch('firetruck')\n",
    "m.put_in_pouch('kitten')\n",
    "m.pouch_contents()\n",
    "k = Kangaroo(0,0)\n",
    "print(k)\n",
    "k.put_in_pouch('doll')\n",
    "k.put_in_pouch('firetruck')\n",
    "k.put_in_pouch('kitten')\n",
    "k.pouch_contents()\n",
    "k.jump(1,0)\n",
    "k.jump(1,0)\n",
    "k.jump(1,0)\n",
    "print(k)"
   ]
  },
  {
   "cell_type": "markdown",
   "id": "66a30832-fae5-4456-926d-0c2ac0969324",
   "metadata": {},
   "source": [
    "**Question 4**  \n",
    "Write function collatz() that takes a positive integer x as input and prints the Collatz sequence starting at x. A Collatz sequence is obtained by repeatedly applying this rule to the previous number x in the sequence:  \n",
    "x = {𝑥/2 𝑖𝑓 𝑥 𝑖𝑠 𝑒𝑣𝑒𝑛  \n",
    "    {3𝑥 + 1 𝑖𝑓 𝑥 𝑖𝑠 𝑜𝑑𝑑  \n",
    "        \n",
    "Your function should stop when the sequence gets to number 1. Your implementation must be recursive, without any loops.   \n"
   ]
  },
  {
   "cell_type": "code",
   "execution_count": 32,
   "id": "7b95c5e4-15a1-499b-907b-acbe3890adf1",
   "metadata": {},
   "outputs": [
    {
     "name": "stdout",
     "output_type": "stream",
     "text": [
      "10\n",
      "5\n",
      "16\n",
      "8\n",
      "4\n",
      "2\n"
     ]
    }
   ],
   "source": [
    "def collatz(get_value):\n",
    "    x = get_value\n",
    "    while x != 1:\n",
    "        print(x)\n",
    "        if x % 2 == 0:\n",
    "            x = int(x / 2)\n",
    "        else:\n",
    "            x = int(3 * x + 1)\n",
    "collatz(1)\n",
    "collatz(10)"
   ]
  },
  {
   "cell_type": "markdown",
   "id": "f128e947-951e-4b63-80c0-3066c7820231",
   "metadata": {},
   "source": [
    "**Question 5**  \n",
    "\n",
    "Write a recursive method binary() that takes a non-negative integer n and prints the binary representation of integer n.\n",
    "\n",
    "binary(0) 0  \n",
    "binary(1) 1  \n",
    "binary(3) 11  \n",
    "binary(9) 1001"
   ]
  },
  {
   "cell_type": "code",
   "execution_count": 33,
   "id": "4c92f665-6483-409b-91d4-a30665f6b4f9",
   "metadata": {},
   "outputs": [
    {
     "name": "stdout",
     "output_type": "stream",
     "text": [
      "0\n",
      "1\n",
      "11\n",
      "1001\n"
     ]
    }
   ],
   "source": [
    "def binary(get_value, binary_representation=\"\"):\n",
    "    if get_value < 0:\n",
    "        print(\"Input must be a non-negative integer.\")\n",
    "        return\n",
    "    elif get_value == 0:\n",
    "        if binary_representation == \"\":\n",
    "            print(0)\n",
    "        else:\n",
    "            print(binary_representation[::-1])\n",
    "    else:\n",
    "        remainder = get_value % 2\n",
    "        binary_representation += str(remainder)\n",
    "        get_value = int(get_value // 2)\n",
    "        binary(get_value, binary_representation)\n",
    "\n",
    "binary(0)\n",
    "binary(1)\n",
    "binary(3)\n",
    "binary(9)"
   ]
  },
  {
   "cell_type": "markdown",
   "id": "90d82731-fec9-4526-9e66-67bd13e848e3",
   "metadata": {},
   "source": [
    "**Question 6**  \n",
    "Implement a class named HeadingParser that can be used to parse an HTMLdocument, and retrieve and print all the headings in the document. You should implement your class as a subclass of HTMLParser, defined in the Standard Library module html.parser. When fed a string containing HTML code, your class should print the headings, one per line, and in the order in which they appear in the document. Each heading should be indented as follows: an h1 heading should have indentation 0, and an h2 heading should have indentation 1, etc. Test your implementation using w3c.html.  \n",
    "infile = open('w3c.html')  \n",
    "content = infile.read()  \n",
    "infile.close()  \n",
    "hp = HeadingParser()  \n",
    "hp.feed(content) \n",
    "\n",
    " W3C Mission  \n",
    " Principles"
   ]
  },
  {
   "cell_type": "code",
   "execution_count": 36,
   "id": "07fb8b23-b025-4cf7-a743-59819f0a8608",
   "metadata": {},
   "outputs": [
    {
     "name": "stdout",
     "output_type": "stream",
     "text": [
      "W3C Mission\n",
      " Principles\n"
     ]
    }
   ],
   "source": [
    "from html.parser import HTMLParser\n",
    "\n",
    "class HeadingParser(HTMLParser):\n",
    "    def __init__(self):\n",
    "        super().__init__()\n",
    "        self.headings = []\n",
    "        self.current_heading = None\n",
    "\n",
    "    def handle_starttag(self, tag, attrs):\n",
    "        if tag.startswith('h') and tag[1:].isdigit():\n",
    "            self.current_heading = {'level': int(tag[1]), 'text': ''}\n",
    "\n",
    "    def handle_data(self, data):\n",
    "        if self.current_heading:\n",
    "            self.current_heading['text'] += data\n",
    "    def handle_endtag(self, tag):\n",
    "        if self.current_heading:\n",
    "            self.headings.append(self.current_heading)\n",
    "            self.current_heading = None\n",
    "\n",
    "    def print_headings(self):\n",
    "        for heading in self.headings:\n",
    "            print(' ' * (heading['level'] - 1) + heading['text'])\n",
    "\n",
    "\n",
    "infile = open(\"w3c.html\", \"r\")\n",
    "content = infile.read()\n",
    "infile.close()\n",
    "hp = HeadingParser()\n",
    "hp.feed(content)\n",
    "hp.print_headings()"
   ]
  },
  {
   "cell_type": "markdown",
   "id": "d1327033-417e-4004-9361-807c416065c0",
   "metadata": {},
   "source": [
    "Question 7\n",
    "\n",
    "Implement recursive function webdir() that takes as input: a URL (as a string) and non-negative integers depth and indent. Your function should visit every webpage reachable from the starting URL web page in-depth clicks or less, and print each web page's URL. As shown below, indentation, specified by indent, should be used to indicate the depth of a URL. webdir('http://reed.cs.depaul.edu/lperkovic/csc242/test1.html', 2, 0)\n",
    "\n",
    "http://reed.cs.depaul.edu/lperkovic/csc242/test1.htmlhttp://reed.cs.depaul.edu/lperkovic/csc242/test2.html http://reed.cs.depaul.edu/lperkovic/csc242/test4.htmlhttp://reed.cs.depaul.edu/lperkovic/csc242/test3.html http://reed.cs.depaul.edu/lperkovic/csc242/test4.html"
   ]
  },
  {
   "cell_type": "code",
   "execution_count": 39,
   "id": "849c0c82-a4ef-4097-bbd5-06b1fde83d86",
   "metadata": {},
   "outputs": [
    {
     "name": "stdout",
     "output_type": "stream",
     "text": [
      "Error: 404 Client Error:  for url: http://reed.cs.depaul.edu/lperkovic/csc242/test1.html\n"
     ]
    }
   ],
   "source": [
    "import requests\n",
    "\n",
    "def webdir(url, depth, indent):\n",
    "    if depth < 0:\n",
    "        return\n",
    "\n",
    "    try:\n",
    "        response = requests.get(url)\n",
    "        response.raise_for_status()\n",
    "\n",
    "        print(' ' * indent + url)\n",
    "\n",
    "        if depth > 0:\n",
    "            links = find_links(response.text)\n",
    "            for link in links:\n",
    "                webdir(link, depth - 1, indent + 4)\n",
    "\n",
    "    except requests.exceptions.RequestException as e:\n",
    "        print(' ' * indent + f\"Error: {e}\")\n",
    "\n",
    "def find_links(html_content):\n",
    "    links = []\n",
    "    start = 0\n",
    "    while True:\n",
    "        start = html_content.find('href=\"', start)\n",
    "        if start == -1:\n",
    "            break\n",
    "        start += 6\n",
    "        end = html_content.find('\"', start)\n",
    "        if end == -1:\n",
    "            break\n",
    "        links.append(html_content[start:end])\n",
    "        start = end\n",
    "    return links\n",
    "\n",
    "webdir('http://reed.cs.depaul.edu/lperkovic/csc242/test1.html', 2, 0)"
   ]
  },
  {
   "cell_type": "markdown",
   "id": "6db255d5-1620-4ba7-a7fb-dd70402f36bc",
   "metadata": {},
   "source": [
    "**Question 8**  \n",
    "Write SQL queries on the below database table that return:  \n",
    "a) All the temperature data.  \n",
    "b) All the cities, but without repetition.  \n",
    "c) All the records for India.  \n",
    "d) All the Fall records.  \n",
    "e) The city, country, and season for which the average rainfall is between 200 and 400 millimeters.  \n",
    "f) The city and country for which the average Fall temperature is above 20 degrees, in increasing temperature order.  \n",
    "g) The total annual rainfall for Cairo.  \n",
    "h) The total rainfall for each season"
   ]
  },
  {
   "cell_type": "code",
   "execution_count": null,
   "id": "d45f8a8e-930b-42a4-aaf8-38d872f70439",
   "metadata": {},
   "outputs": [],
   "source": [
    "#Answer to Question 8\n",
    "a. SELECT temperature FROM weather_table;\n",
    "b. SELECT DISTINCT city FROM weather_table;\n",
    "c. SELECT * FROM weather_table WHERE country = 'India';\n",
    "d. SELECT * FROM weather_table WHERE season = 'Fall';\n",
    "e. SELECT city, country, season  \n",
    "    FROM weather_table  \n",
    "    GROUP BY city, country, season  \n",
    "    HAVING AVG(rainfall) BETWEEN 200 AND 400;  \n",
    "f. SELECT city, country\n",
    "    FROM weather_table\n",
    "    WHERE season = 'Fall'\n",
    "    GROUP BY city, country\n",
    "    HAVING AVG(temperature) > 20\n",
    "    ORDER BY AVG(temperature) ASC;\n",
    "g. SELECT SUM(rainfall) AS total_annual_rainfall\n",
    "    FROM weather_table\n",
    "    WHERE city = 'Cairo';\n",
    "h. SELECT season, SUM(rainfall) AS total_rainfall\n",
    "    FROM weather_table\n",
    "    GROUP BY season;\n"
   ]
  },
  {
   "cell_type": "markdown",
   "id": "8a5b395f-7bf5-4dd9-88c5-d43478e910bd",
   "metadata": {},
   "source": [
    "**Question 9**\n",
    "\n",
    "Suppose list words is defined as follows:  \n",
    "words = ['The', 'quick', 'brown', 'fox', 'jumps', 'over','the', 'lazy', 'dog']\n",
    "\n",
    "Write list comprehension expressions that use list words and generate the following lists:\n",
    "\n",
    "a. ['THE', 'QUICK', 'BROWN', 'FOX', 'JUMPS', 'OVER', 'THE','LAZY', 'DOG']  \n",
    "b. ['the', 'quick', 'brown', 'fox', 'jumps', 'over', 'the','lazy', 'dog']  \n",
    "c. [3, 5, 5, 3, 5, 4, 3, 4, 3] (the list of lengths of words in listwords).  \n",
    "d. [['THE', 'the', 3], ['QUICK', 'quick', 5], ['BROWN','brown', 5], ['FOX', 'fox', 3], ['JUMPS', 'jumps', 5],['OVER', 'over', 4], ['THE', 'the', 3], ['LAZY', 'lazy',4], ['DOG', 'dog', 3]] (the list containing a list for every word of listwords, where each list contains the word in uppercase and lowercase and thelength of the word.)  \n",
    "e. ['The', 'quick', 'brown', 'fox', 'jumps', 'over', 'the','lazy', 'dog'] the list of words in list words containing 4 or morecharacters."
   ]
  },
  {
   "cell_type": "code",
   "execution_count": 47,
   "id": "7ca91470-e245-47e0-8c19-1c1a1cb3cede",
   "metadata": {},
   "outputs": [
    {
     "name": "stdout",
     "output_type": "stream",
     "text": [
      "a. ['THE', 'QUICK', 'BROWN', 'FOX', 'JUMPS', 'OVER', 'THE', 'LAZY', 'DOG']\n",
      "b. ['the', 'quick', 'brown', 'fox', 'jumps', 'over', 'the', 'lazy', 'dog']\n",
      "c. [3, 5, 5, 3, 5, 4, 3, 4, 3]\n",
      "d. [['THE', 'the', 3], ['QUICK', 'quick', 5], ['BROWN', 'brown', 5], ['FOX', 'fox', 3], ['JUMPS', 'jumps', 5], ['OVER', 'over', 4], ['THE', 'the', 3], ['LAZY', 'lazy', 4], ['DOG', 'dog', 3]]\n",
      "e. ['quick', 'brown', 'jumps', 'over', 'lazy']\n"
     ]
    }
   ],
   "source": [
    "words = ['The', 'quick', 'brown', 'fox', 'jumps', 'over', 'the', 'lazy', 'dog']\n",
    "uppercase_words = [word.upper() for word in words]\n",
    "lowercase_words = [word.lower() for word in words]\n",
    "word_lengths = [len(word) for word in words]\n",
    "word_info = [[word.upper(), word.lower(), len(word)] for word in words]\n",
    "four_or_more_characters = [word for word in words if len(word) >= 4]\n",
    "print(\"a.\", uppercase_words)\n",
    "print(\"b.\", lowercase_words)\n",
    "print(\"c.\", word_lengths)\n",
    "print(\"d.\", word_info)\n",
    "print(\"e.\", four_or_more_characters)"
   ]
  },
  {
   "cell_type": "code",
   "execution_count": null,
   "id": "c0e5c58d-806b-499f-9316-2fd0d0823ac1",
   "metadata": {},
   "outputs": [],
   "source": []
  }
 ],
 "metadata": {
  "kernelspec": {
   "display_name": "Python 3 (ipykernel)",
   "language": "python",
   "name": "python3"
  },
  "language_info": {
   "codemirror_mode": {
    "name": "ipython",
    "version": 3
   },
   "file_extension": ".py",
   "mimetype": "text/x-python",
   "name": "python",
   "nbconvert_exporter": "python",
   "pygments_lexer": "ipython3",
   "version": "3.11.5"
  }
 },
 "nbformat": 4,
 "nbformat_minor": 5
}
